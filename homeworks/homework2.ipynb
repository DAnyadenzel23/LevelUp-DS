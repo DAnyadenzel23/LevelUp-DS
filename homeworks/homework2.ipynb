{
 "cells": [
  {
   "cell_type": "code",
   "execution_count": null,
   "id": "e3935227",
   "metadata": {},
   "outputs": [],
   "source": [
    "🧩 Задание 1. Проверка приветствия\n",
    "Цель: работа со строками и условными операторами.\n",
    "\n",
    "Условие: Попросите пользователя ввести фразу. Если в ней встречается слово \"привет\", выведите:\n",
    "\n",
    "\"И тебе привет!\"\n",
    "\n",
    "Если встречается слово \"пока\", выведите:\n",
    "\n",
    "\"Уже уходишь? 😢\"\n",
    "\n",
    "Если нет ни того, ни другого — напечатайте:\n",
    "\n",
    "\"Ты молчалив сегодня...\""
   ]
  },
  {
   "cell_type": "code",
   "execution_count": 6,
   "id": "2b07f46b",
   "metadata": {},
   "outputs": [
    {
     "name": "stdout",
     "output_type": "stream",
     "text": [
      "Уже уходишь? 😢\n"
     ]
    }
   ],
   "source": [
    "target_1 = 'привет'\n",
    "target_2 = 'пока'\n",
    "phrase = input('Введите фразу: ')\n",
    "if target_1 in phrase.lower():\n",
    "    print(\"И тебе привет!\")\n",
    "elif target_2 in phrase.lower():\n",
    "    print(\"Уже уходишь? 😢\")  \n",
    "else:\n",
    "    print(\"Ты молчалив сегодня...\")          "
   ]
  },
  {
   "cell_type": "markdown",
   "id": "232d1ce4",
   "metadata": {},
   "source": []
  },
  {
   "cell_type": "markdown",
   "id": "d3dfece6",
   "metadata": {},
   "source": [
    "🔢 Задание 2. Таблица степеней\n",
    "Цель: освоить цикл for и форматированный вывод.\n",
    "\n",
    "Условие: Попросите пользователя ввести число n. Выведите таблицу квадратов и кубов чисел от 1 до n."
   ]
  },
  {
   "cell_type": "code",
   "execution_count": null,
   "id": "49039d4a",
   "metadata": {},
   "outputs": [
    {
     "name": "stdout",
     "output_type": "stream",
     "text": [
      "1^2 = 1, 1^3 = 1\n",
      "2^2 = 4, 2^3 = 8\n",
      "3^2 = 9, 3^3 = 27\n",
      "4^2 = 16, 4^3 = 64\n",
      "5^2 = 25, 5^3 = 125\n",
      "6^2 = 36, 6^3 = 216\n"
     ]
    }
   ],
   "source": [
    "n = int(input('Введите числоо: '))\n",
    "for i in range(1, n+1):\n",
    "    print(f'{i}^2 = {i**2}, {i}^3 = {i**3}') "
   ]
  },
  {
   "cell_type": "markdown",
   "id": "d183d1ab",
   "metadata": {},
   "source": []
  },
  {
   "cell_type": "markdown",
   "id": "27b73098",
   "metadata": {},
   "source": [
    "🔐 Задание 3. Секретное число\n",
    "Цель: научиться использовать цикл while и условное завершение с break.\n",
    "\n",
    "Условие: Программа загадывает число 7. Пользователь вводит числа, пока не угадает. Если число меньше — вывести \"Мало!\", если больше — \"Много!\", если угадано — \"Верно!\" и завершить игру."
   ]
  },
  {
   "cell_type": "code",
   "execution_count": 11,
   "id": "2d391646",
   "metadata": {},
   "outputs": [
    {
     "name": "stdout",
     "output_type": "stream",
     "text": [
      "Это не число, попробуй снова.\n",
      "Мало!\n",
      "Это не число, попробуй снова.\n",
      "Мало!\n",
      "Это не число, попробуй снова.\n",
      "Много!\n",
      "Верно!\n"
     ]
    }
   ],
   "source": [
    "target = 7\n",
    "while True:\n",
    "    try:\n",
    "        trai = int(input('Введите число'))\n",
    "        if trai < 7:\n",
    "            print('Мало!')\n",
    "        elif trai > 7:\n",
    "            print('Много!')\n",
    "        else:\n",
    "            print('Верно!')\n",
    "            break\n",
    "    except ValueError:\n",
    "        print('Это не число, попробуй снова.')           "
   ]
  },
  {
   "cell_type": "markdown",
   "id": "835b0870",
   "metadata": {},
   "source": []
  },
  {
   "cell_type": "markdown",
   "id": "4f7640a4",
   "metadata": {},
   "source": [
    "🔠 Задание 4. Гласные под прицелом\n",
    "Цель: научиться перебирать строку и использовать enumerate().\n",
    "\n",
    "Условие: Попросите пользователя ввести слово. Выведите все гласные буквы с их индексами."
   ]
  },
  {
   "cell_type": "code",
   "execution_count": 14,
   "id": "18c2af99",
   "metadata": {},
   "outputs": [
    {
     "name": "stdout",
     "output_type": "stream",
     "text": [
      "0 - а\n",
      "1 - ы\n",
      "4 - о\n",
      "6 - а\n",
      "7 - ы\n"
     ]
    }
   ],
   "source": [
    "lst_of_letters = \"аеёиоуыэюя\"\n",
    "word = input('Введите слово: ')\n",
    "for i, letter in enumerate(word):\n",
    "    if letter in lst_of_letters:\n",
    "        print(f'{i} - {letter}')"
   ]
  },
  {
   "cell_type": "markdown",
   "id": "f060c8df",
   "metadata": {},
   "source": []
  },
  {
   "cell_type": "markdown",
   "id": "7b894f3c",
   "metadata": {},
   "source": [
    "🐸 Задание 5. Квакушки на болоте\n",
    "Цель: освоить вложенные циклы и continue.\n",
    "\n",
    "Условие: На болоте живут 3 лягушки и 3 кочки. Каждая лягушка пробует прыгнуть на каждую кочку, кроме своей."
   ]
  },
  {
   "cell_type": "code",
   "execution_count": 16,
   "id": "caf3d77f",
   "metadata": {},
   "outputs": [
    {
     "name": "stdout",
     "output_type": "stream",
     "text": [
      "Лягушка 1 прыгает на кочку 2\n",
      "Лягушка 1 прыгает на кочку 3\n",
      "Лягушка 2 прыгает на кочку 1\n",
      "Лягушка 2 прыгает на кочку 3\n",
      "Лягушка 3 прыгает на кочку 1\n",
      "Лягушка 3 прыгает на кочку 2\n"
     ]
    }
   ],
   "source": [
    "for i in range(1, 4):\n",
    "    for j in range(1, 4):\n",
    "        if i == j:\n",
    "            continue\n",
    "        else:\n",
    "            print(f'Лягушка {i} прыгает на кочку {j}')"
   ]
  }
 ],
 "metadata": {
  "kernelspec": {
   "display_name": "Python 3",
   "language": "python",
   "name": "python3"
  },
  "language_info": {
   "codemirror_mode": {
    "name": "ipython",
    "version": 3
   },
   "file_extension": ".py",
   "mimetype": "text/x-python",
   "name": "python",
   "nbconvert_exporter": "python",
   "pygments_lexer": "ipython3",
   "version": "3.12.3"
  }
 },
 "nbformat": 4,
 "nbformat_minor": 5
}
