{
 "cells": [
  {
   "cell_type": "markdown",
   "id": "ff766f88",
   "metadata": {},
   "source": [
    "Объектно-ориентированное программирование на Python Тема: Система управления кафе\n",
    "\n",
    "Цель: применить принципы ООП (инкапсуляция, наследование, полиморфизм, взаимодействие объектов) для моделирования работы кафе.\n",
    "\n",
    "Описание задачи: Необходимо разработать простую модель кафе, в котором:\n",
    "\n",
    "есть напитки (горячие и холодные),\n",
    "у каждого клиента есть возможность делать заказы,\n",
    "есть меню с доступными напитками.\n"
   ]
  },
  {
   "cell_type": "code",
   "execution_count": 12,
   "id": "bdd5de66",
   "metadata": {},
   "outputs": [],
   "source": [
    "class Drinks():\n",
    "    \n",
    "    def __init__(self, name, volume):\n",
    "        self.name = name\n",
    "        self.volume = volume\n",
    "\n",
    "    def display_info(self):\n",
    "        return f'Напиток \"{self.name}\", объемом {self.volume} л.'    "
   ]
  },
  {
   "cell_type": "code",
   "execution_count": 13,
   "id": "2980cd19",
   "metadata": {},
   "outputs": [],
   "source": [
    "class HotDrinks(Drinks):\n",
    "    \n",
    "    def __init__(self, name, volume, temperature=75):\n",
    "        super().__init__(name, volume)\n",
    "        self.temperature=temperature\n",
    "\n",
    "    def display_info(self):\n",
    "        return f'Напиток \"{self.name}\", объемом {self.volume} л. Подается температурой {self.temperature} гр.Цельсия'   \n",
    "\n",
    "\n",
    "class ColdDrinks(Drinks):\n",
    "\n",
    "    def __init__(self, name, volume, ice_cubes=3):\n",
    "        super().__init__(name, volume)\n",
    "        self.ice_cubes = ice_cubes\n",
    "\n",
    "    def display_info(self):\n",
    "        return f'Напиток \"{self.name}\", объемом {self.volume} л. Добавляется {self.ice_cubes} куб. льда' \n",
    "                "
   ]
  },
  {
   "cell_type": "code",
   "execution_count": 23,
   "id": "2532d5a3",
   "metadata": {},
   "outputs": [],
   "source": [
    "class Customer():\n",
    "    \n",
    "    def __init__(self, name, order=None):\n",
    "        self.name = name\n",
    "        self.order = []\n",
    "\n",
    "    def show_orders(self):\n",
    "        print(f'Посититель {self.name} сделал следующий заказ:')\n",
    "        for dr in self.order:\n",
    "            print('  -' + dr.display_info())\n",
    "\n",
    "    def order_drink(self, drink):\n",
    "        \n",
    "        self.order.append(drink)    \n",
    "        return f'___{drink.name} добавлен в заказ Поситителя {self.name}___'"
   ]
  },
  {
   "cell_type": "code",
   "execution_count": 15,
   "id": "5d02febe",
   "metadata": {},
   "outputs": [],
   "source": [
    "class DrinkMenu():\n",
    "\n",
    "    def __init__(self, drinks=[]):\n",
    "        self.drinks = drinks\n",
    "\n",
    "    def add_drink(self, drink):\n",
    "        self.drinks.append(drink)\n",
    "        print(f'Напиток {drink.name} добавлен в меню. Налетайте!')\n",
    "\n",
    "    def show_all_drinks(self):\n",
    "        print('Доступно к заказу:')\n",
    "        for dr in self.drinks:\n",
    "            print(f' - {dr.name} - {dr.volume}л.')"
   ]
  },
  {
   "cell_type": "code",
   "execution_count": 16,
   "id": "12c6f4f4",
   "metadata": {},
   "outputs": [
    {
     "name": "stdout",
     "output_type": "stream",
     "text": [
      "Напиток \"Cola\", объемом 0.5 л.\n",
      "Напиток \"Water\", объемом 0.53 л.\n"
     ]
    }
   ],
   "source": [
    "drink_1 = Drinks(name='Cola', volume=0.5)\n",
    "drink_4 = Drinks(name='Water', volume=0.53)\n",
    "print(drink_1.display_info())\n",
    "print(drink_4.display_info())\n"
   ]
  },
  {
   "cell_type": "code",
   "execution_count": 17,
   "id": "d95ece2d",
   "metadata": {},
   "outputs": [
    {
     "name": "stdout",
     "output_type": "stream",
     "text": [
      "Напиток \"black_tea\", объемом 0.4 л. Подается температурой 80 гр.Цельсия\n",
      "Напиток \"ice_tea\", объемом 0.7 л. Добавляется 3 куб. льда\n"
     ]
    }
   ],
   "source": [
    "drink_2 = HotDrinks(name='black_tea', volume=0.4, temperature=80)\n",
    "drink_3 = ColdDrinks(name='ice_tea', volume=0.7)\n",
    "\n",
    "print(drink_2.display_info())\n",
    "print(drink_3.display_info())"
   ]
  },
  {
   "cell_type": "code",
   "execution_count": 18,
   "id": "2635c008",
   "metadata": {},
   "outputs": [
    {
     "name": "stdout",
     "output_type": "stream",
     "text": [
      "Напиток Cola добавлен в меню. Налетайте!\n",
      "Напиток black_tea добавлен в меню. Налетайте!\n",
      "Напиток ice_tea добавлен в меню. Налетайте!\n",
      "Напиток Water добавлен в меню. Налетайте!\n",
      "Доступно к заказу:\n",
      " - Cola - 0.5л.\n",
      " - black_tea - 0.4л.\n",
      " - ice_tea - 0.7л.\n",
      " - Water - 0.53л.\n"
     ]
    }
   ],
   "source": [
    "menu_of_drinks = DrinkMenu()\n",
    "menu_of_drinks.add_drink(drink_1)\n",
    "menu_of_drinks.add_drink(drink_2)\n",
    "menu_of_drinks.add_drink(drink_3)\n",
    "menu_of_drinks.add_drink(drink_4)\n",
    "menu_of_drinks.show_all_drinks()"
   ]
  },
  {
   "cell_type": "code",
   "execution_count": 19,
   "id": "2d224e45",
   "metadata": {},
   "outputs": [
    {
     "name": "stdout",
     "output_type": "stream",
     "text": [
      "___black_tea добавлен в заказ Поситителя John___\n",
      "Посититель John сделал следующий заказ:\n",
      "  -Напиток \"black_tea\", объемом 0.4 л. Подается температурой 80 гр.Цельсия\n",
      "___Cola добавлен в заказ Поситителя John___\n",
      "Посититель John сделал следующий заказ:\n",
      "  -Напиток \"Cola\", объемом 0.5 л.\n"
     ]
    }
   ],
   "source": [
    "Customer_1 = Customer(name='John')\n",
    "print(Customer_1.order_drink(drink_2))\n",
    "Customer_1.show_orders()\n",
    "print(Customer_1.order_drink(drink_1))\n",
    "Customer_1.show_orders()"
   ]
  },
  {
   "cell_type": "code",
   "execution_count": 24,
   "id": "b3c8d324",
   "metadata": {},
   "outputs": [],
   "source": [
    "Customer_2 = Customer(name='DrinkWater')\n",
    "\n"
   ]
  },
  {
   "cell_type": "code",
   "execution_count": 25,
   "id": "09ec7406",
   "metadata": {},
   "outputs": [
    {
     "name": "stdout",
     "output_type": "stream",
     "text": [
      "___Water добавлен в заказ Поситителя DrinkWater___\n",
      "___Water добавлен в заказ Поситителя DrinkWater___\n",
      "___Water добавлен в заказ Поситителя DrinkWater___\n",
      "___Water добавлен в заказ Поситителя DrinkWater___\n"
     ]
    }
   ],
   "source": [
    "print(Customer_2.order_drink(drink_4))\n",
    "print(Customer_2.order_drink(drink_4))\n",
    "print(Customer_2.order_drink(drink_4))\n",
    "print(Customer_2.order_drink(drink_4))\n",
    "\n"
   ]
  },
  {
   "cell_type": "code",
   "execution_count": 26,
   "id": "80a60a44",
   "metadata": {},
   "outputs": [
    {
     "name": "stdout",
     "output_type": "stream",
     "text": [
      "Посититель DrinkWater сделал следующий заказ:\n",
      "  -Напиток \"Water\", объемом 0.53 л.\n",
      "  -Напиток \"Water\", объемом 0.53 л.\n",
      "  -Напиток \"Water\", объемом 0.53 л.\n",
      "  -Напиток \"Water\", объемом 0.53 л.\n"
     ]
    }
   ],
   "source": [
    "Customer_2.show_orders()"
   ]
  }
 ],
 "metadata": {
  "kernelspec": {
   "display_name": "Python 3",
   "language": "python",
   "name": "python3"
  },
  "language_info": {
   "codemirror_mode": {
    "name": "ipython",
    "version": 3
   },
   "file_extension": ".py",
   "mimetype": "text/x-python",
   "name": "python",
   "nbconvert_exporter": "python",
   "pygments_lexer": "ipython3",
   "version": "3.12.3"
  }
 },
 "nbformat": 4,
 "nbformat_minor": 5
}
