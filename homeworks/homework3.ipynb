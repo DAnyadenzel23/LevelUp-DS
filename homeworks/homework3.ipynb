{
 "cells": [
  {
   "cell_type": "markdown",
   "id": "363f0b21",
   "metadata": {},
   "source": [
    "🧩 1. Срезы строки\n",
    "Задача: Дана строка text = \"Питон — это круто!\"\n",
    "\n",
    "Выведите первые 6 символов.\n",
    "Выведите строку без последних двух символов.\n",
    "Переверните строку задом наперёд.\n",
    "Выведите каждый второй символ."
   ]
  },
  {
   "cell_type": "code",
   "execution_count": 7,
   "id": "03b2b094",
   "metadata": {},
   "outputs": [
    {
     "name": "stdout",
     "output_type": "stream",
     "text": [
      "Питон \n",
      "Питон — это крут\n",
      "!отурк отэ — нотиП\n",
      "Птн—эокуо\n"
     ]
    }
   ],
   "source": [
    "text = \"Питон — это круто!\"\n",
    "print(text[0:6])\n",
    "print(text[:-2])\n",
    "print(text[::-1])\n",
    "print(text[::2])\n"
   ]
  },
  {
   "cell_type": "markdown",
   "id": "93d4bac8",
   "metadata": {},
   "source": [
    "📊 2. Фильтрация списка по индексу\n",
    "Задача: Дан список чисел:\n",
    "\n",
    "numbers = [10, 25, 30, 45, 50, 65, 70]\n",
    "Создайте новый список, состоящий только из элементов с чётными индексами. Используйте срез, а не цикл."
   ]
  },
  {
   "cell_type": "code",
   "execution_count": 12,
   "id": "0dd53bb7",
   "metadata": {},
   "outputs": [
    {
     "name": "stdout",
     "output_type": "stream",
     "text": [
      "[10, 30, 50, 70]\n"
     ]
    }
   ],
   "source": [
    "numbers = [10, 25, 30, 45, 50, 65, 70]\n",
    "nums = numbers[::2]\n",
    "print(nums)"
   ]
  },
  {
   "cell_type": "markdown",
   "id": "972e019f",
   "metadata": {},
   "source": [
    "🍎 3. Замена элементов списка\n",
    "Задача: Есть список покупок:\n",
    "\n",
    "shopping = [\"молоко\", \"хлеб\", \"сыр\", \"яблоки\"]\n",
    "Замените \"хлеб\" на \"батон\".\n",
    "Удалите \"сыр\".\n",
    "Добавьте \"йогурт\" в конец списка.\n",
    "Выведите итоговый список."
   ]
  },
  {
   "cell_type": "code",
   "execution_count": 15,
   "id": "090a6dba",
   "metadata": {},
   "outputs": [
    {
     "name": "stdout",
     "output_type": "stream",
     "text": [
      "['молоко', 'батон', 'яблоки', 'йогурт']\n"
     ]
    }
   ],
   "source": [
    "shopping = [\"молоко\", \"хлеб\", \"сыр\", \"яблоки\"]\n",
    "shopping[1] = 'батон'\n",
    "del shopping[2]\n",
    "shopping.append('йогурт')\n",
    "print(shopping)"
   ]
  },
  {
   "cell_type": "markdown",
   "id": "69ae03a5",
   "metadata": {},
   "source": [
    "🎲 4. Объединение списков\n",
    "Задача: Создайте два списка:\n",
    "\n",
    "a = [1, 3, 5]\n",
    "b = [2, 4, 6]\n",
    "Объедините их в один список.\n",
    "Переверните итоговый список.\n",
    "Посчитайте его длину."
   ]
  },
  {
   "cell_type": "code",
   "execution_count": 22,
   "id": "317891db",
   "metadata": {},
   "outputs": [
    {
     "name": "stdout",
     "output_type": "stream",
     "text": [
      "[1, 3, 5, 2, 4, 6]\n",
      "[6, 4, 2, 5, 3, 1]\n"
     ]
    },
    {
     "data": {
      "text/plain": [
       "6"
      ]
     },
     "execution_count": 22,
     "metadata": {},
     "output_type": "execute_result"
    }
   ],
   "source": [
    "a = [1, 3, 5]\n",
    "b = [2, 4, 6]\n",
    "a += b\n",
    "print(a)\n",
    "c = a[::-1]\n",
    "print(c)\n",
    "len(c)"
   ]
  },
  {
   "cell_type": "markdown",
   "id": "bf798103",
   "metadata": {},
   "source": [
    "🧮 5. Удаление всех повторов\n",
    "Задача: Есть список:\n",
    "\n",
    "data = [1, 2, 2, 3, 4, 4, 5, 1]\n",
    "Сделайте так, чтобы в списке остались только уникальные элементы (можно использовать множество)."
   ]
  },
  {
   "cell_type": "code",
   "execution_count": 24,
   "id": "07477535",
   "metadata": {},
   "outputs": [
    {
     "data": {
      "text/plain": [
       "[1, 2, 3, 4, 5]"
      ]
     },
     "execution_count": 24,
     "metadata": {},
     "output_type": "execute_result"
    }
   ],
   "source": [
    "data = [1, 2, 2, 3, 4, 4, 5, 1]\n",
    "uniq_data = list(set(data))\n",
    "uniq_data"
   ]
  },
  {
   "cell_type": "code",
   "execution_count": 25,
   "id": "94be5598",
   "metadata": {},
   "outputs": [
    {
     "name": "stdout",
     "output_type": "stream",
     "text": [
      "[1, 2, 3, 4, 5]\n"
     ]
    }
   ],
   "source": [
    "uniq_data = []\n",
    "for num in data:\n",
    "    if num not in uniq_data:\n",
    "        uniq_data.append(num)\n",
    "print(uniq_data)        "
   ]
  },
  {
   "cell_type": "markdown",
   "id": "34f2ae3f",
   "metadata": {},
   "source": [
    "🌍 6. Работа со словарём стран\n",
    "Задача: Есть словарь:\n",
    "\n",
    "countries = {\n",
    "    \"Россия\": \"Москва\",\n",
    "    \"Италия\": \"Рим\",\n",
    "    \"Испания\": \"Мадрид\"\n",
    "}\n",
    "Добавьте страну \"Германия\" со столицей \"Берлин\".\n",
    "Перенесите столицу \"Испании\" в \"Барселону\".\n",
    "Выведите все пары \"страна — столица\" в формате \"Столица <столица> находится в стране <страна>\"."
   ]
  },
  {
   "cell_type": "code",
   "execution_count": 26,
   "id": "4d6760e9",
   "metadata": {},
   "outputs": [
    {
     "name": "stdout",
     "output_type": "stream",
     "text": [
      "Столица Москва находится в стране Россия\n",
      "Столица Рим находится в стране Италия\n",
      "Столица Барселона находится в стране Испания\n",
      "Столица Берлин находится в стране Германия\n"
     ]
    }
   ],
   "source": [
    "countries = {\n",
    "    \"Россия\": \"Москва\",\n",
    "    \"Италия\": \"Рим\",\n",
    "    \"Испания\": \"Мадрид\"\n",
    "            }\n",
    "countries['Германия'] = 'Берлин'\n",
    "countries['Испания'] = 'Барселона'\n",
    "for k, v in countries.items():\n",
    "    print(f'Столица {v} находится в стране {k}')"
   ]
  },
  {
   "cell_type": "markdown",
   "id": "4191d385",
   "metadata": {},
   "source": [
    "🔤7. Подсчёт букв\n",
    "Задача: Дана строка:\n",
    "\n",
    "word = \"программирование\"\n",
    "Преобразуйте строку в множество символов.\n",
    "Посчитайте, сколько уникальных букв в слове.\n",
    "Выведите гласные буквы, которые встречаются в слове (используйте пересечение множеств).\n"
   ]
  },
  {
   "cell_type": "code",
   "execution_count": 31,
   "id": "84e00ee1",
   "metadata": {},
   "outputs": [
    {
     "name": "stdout",
     "output_type": "stream",
     "text": [
      "{'и', 'р', 'м', 'п', 'н', 'е', 'о', 'в', 'а', 'г'}\n",
      "В слове программирование - 10 уникальных символов\n",
      "{'и', 'а', 'е', 'о'}\n"
     ]
    }
   ],
   "source": [
    "word = \"программирование\"\n",
    "word_set = set(word)\n",
    "print(word_set)\n",
    "print(f'В слове {word} - {len(word_set)} уникальных символов')\n",
    "vowels = {'а', 'о', 'у', 'э', 'и', 'ы', 'е', 'ё', 'ю', 'я'}\n",
    "print(word_set & vowels)"
   ]
  },
  {
   "cell_type": "markdown",
   "id": "ffcd8226",
   "metadata": {},
   "source": [
    "🧠 8. Обратный словарь\n",
    "Задача: Есть словарь:\n",
    "\n",
    "countries_and_capitals = {\"Россия\": \"Москва\", \"Франция\": \"Париж\", \"Япония\": \"Токио\"}\n",
    "Создайте новый словарь, где ключами будут столицы, а значениями — страны."
   ]
  },
  {
   "cell_type": "code",
   "execution_count": 32,
   "id": "1cce8122",
   "metadata": {},
   "outputs": [
    {
     "data": {
      "text/plain": [
       "{'Москва': 'Россия', 'Париж': 'Франция', 'Токио': 'Япония'}"
      ]
     },
     "execution_count": 32,
     "metadata": {},
     "output_type": "execute_result"
    }
   ],
   "source": [
    "countries_and_capitals = {\"Россия\": \"Москва\", \"Франция\": \"Париж\", \"Япония\": \"Токио\"}\n",
    "capitals_and_countries = {}\n",
    "for k,v in countries_and_capitals.items():\n",
    "    capitals_and_countries[v] = k\n",
    "capitals_and_countries    "
   ]
  },
  {
   "cell_type": "markdown",
   "id": "68774109",
   "metadata": {},
   "source": [
    "🎬 9. Список фильмов\n",
    "Задача: Создайте список из 5 фильмов.\n",
    "\n",
    "Отсортируйте его по алфавиту.\n",
    "Добавьте в начало \"Интерстеллар\".\n",
    "Удалите последний фильм из списка.\n",
    "Выведите итоговый список."
   ]
  },
  {
   "cell_type": "code",
   "execution_count": null,
   "id": "2aa3db7e",
   "metadata": {},
   "outputs": [
    {
     "data": {
      "text/plain": [
       "['Интерстеллар', 'Бриллиантовая рука', 'Гайвер', 'Люди Икс', 'Шерлок Холмс']"
      ]
     },
     "execution_count": 36,
     "metadata": {},
     "output_type": "execute_result"
    }
   ],
   "source": [
    "movies = ['Бриллиантовая рука', 'Гайвер', \n",
    "          'Японский городовой', 'Люди Икс', \n",
    "          'Шерлок Холмс']\n",
    "movies.sort()\n",
    "movies.insert(0, 'Интерстеллар')\n",
    "\n",
    "del movies[-1]\n",
    "movies"
   ]
  },
  {
   "cell_type": "markdown",
   "id": "775f5d78",
   "metadata": {},
   "source": [
    "⚙️ 10. Анализ числового списка\n",
    "Задача: Есть список чисел:\n",
    "\n",
    "nums = [15, 2, 30, 4, 50, 6, 75, 8]\n",
    "Найдите минимум, максимум и среднее арифметическое.\n",
    "Удалите все числа больше среднего.\n",
    "Отсортируйте список по возрастанию."
   ]
  },
  {
   "cell_type": "code",
   "execution_count": null,
   "id": "c7226227",
   "metadata": {},
   "outputs": [
    {
     "name": "stdout",
     "output_type": "stream",
     "text": [
      "Максимум - 75\n",
      "Минимум - 2\n",
      "Среднее - 23.75\n"
     ]
    },
    {
     "data": {
      "text/plain": [
       "[30, 50, 75]"
      ]
     },
     "execution_count": 42,
     "metadata": {},
     "output_type": "execute_result"
    }
   ],
   "source": [
    "nums = [15, 2, 30, 4, 50, 6, 75, 8]\n",
    "print(f'Максимум - {max(nums)}\\nМинимум - {min(nums)}\\nСреднее - {sum(nums) / len(nums)}')\n",
    "[n for n in nums if n > (sum(nums)/len(nums))] "
   ]
  }
 ],
 "metadata": {
  "kernelspec": {
   "display_name": "Python 3",
   "language": "python",
   "name": "python3"
  },
  "language_info": {
   "codemirror_mode": {
    "name": "ipython",
    "version": 3
   },
   "file_extension": ".py",
   "mimetype": "text/x-python",
   "name": "python",
   "nbconvert_exporter": "python",
   "pygments_lexer": "ipython3",
   "version": "3.12.3"
  }
 },
 "nbformat": 4,
 "nbformat_minor": 5
}
