{
 "cells": [
  {
   "cell_type": "markdown",
   "id": "5091ffe9",
   "metadata": {},
   "source": [
    "🧩 1. Срезы строки\n",
    "Задача: Дана строка text = \"Питон — это круто!\"\n",
    "\n",
    "Выведите первые 6 символов.\n",
    "Выведите строку без последних двух символов.\n",
    "Переверните строку задом наперёд.\n",
    "Выведите каждый второй символ."
   ]
  },
  {
   "cell_type": "code",
   "execution_count": 5,
   "id": "077e2100",
   "metadata": {},
   "outputs": [
    {
     "name": "stdout",
     "output_type": "stream",
     "text": [
      "Питон \n",
      "Питон — это крут\n",
      "!отурк отэ — нотиП\n",
      "Птн—эокуо\n",
      "None\n"
     ]
    }
   ],
   "source": [
    "string = \"Питон — это круто!\"\n",
    "def printer(text):\n",
    "    print(f'{text[0:6]}\\n{text[:-2]}\\n{text[::-1]}\\n{text[::2]}')\n",
    "    \n",
    "print(printer(string))    "
   ]
  },
  {
   "cell_type": "markdown",
   "id": "e3066c52",
   "metadata": {},
   "source": [
    "📊 2. Фильтрация списка по индексу\n",
    "Задача: Дан список чисел:\n",
    "\n",
    "numbers = [10, 25, 30, 45, 50, 65, 70]\n",
    "Создайте новый список, состоящий только из элементов с чётными индексами. Используйте срез, а не цикл."
   ]
  },
  {
   "cell_type": "code",
   "execution_count": 6,
   "id": "c666a400",
   "metadata": {},
   "outputs": [
    {
     "data": {
      "text/plain": [
       "[10, 30, 50, 70]"
      ]
     },
     "execution_count": 6,
     "metadata": {},
     "output_type": "execute_result"
    }
   ],
   "source": [
    "numbers = [10, 25, 30, 45, 50, 65, 70]\n",
    "def even(nums):    \n",
    "    return nums[::2]\n",
    "even(numbers)"
   ]
  },
  {
   "cell_type": "markdown",
   "id": "2e9e7e8e",
   "metadata": {},
   "source": [
    "🍎 3. Замена элементов списка\n",
    "Задача: Есть список покупок:\n",
    "\n",
    "shopping=[\"молоко\", \"хлеб\", \"сыр\", \"яблоки\"]\n",
    "Замените \"хлеб\" на \"батон\".\n",
    "Удалите \"сыр\".\n",
    "Добавьте \"йогурт\" в конец списка.\n",
    "Выведите итоговый список."
   ]
  },
  {
   "cell_type": "code",
   "execution_count": 12,
   "id": "49bccb3e",
   "metadata": {},
   "outputs": [
    {
     "data": {
      "text/plain": [
       "['хлеб', 'сыр', 'яблоки', 'йогурт']"
      ]
     },
     "execution_count": 12,
     "metadata": {},
     "output_type": "execute_result"
    }
   ],
   "source": [
    "shopping = [\"молоко\", \"хлеб\", \"сыр\", \"яблоки\"]\n",
    "def basket_mod(basket,):\n",
    "    change_index = basket.index(input(f'Введите товар для замены на батон из списка: {', '.join(shopping)}:'))\n",
    "    basket[change_index] = 'батон'\n",
    "    del_index = basket.index(input(f'Введите товар для удаления из списка: {', '.join(shopping)}:'))\n",
    "    del basket[del_index]\n",
    "    basket.append('йогурт')\n",
    "    return basket\n",
    "\n",
    "basket_mod(shopping)"
   ]
  },
  {
   "cell_type": "markdown",
   "id": "bd0f6c54",
   "metadata": {},
   "source": [
    "🎲 4. Объединение списков\n",
    "Задача: Создайте два списка:\n",
    "\n",
    "a = [1, 3, 5]\n",
    "b = [2, 4, 6]\n",
    "Объедините их в один список.\n",
    "Переверните итоговый список.\n",
    "Посчитайте его длину."
   ]
  },
  {
   "cell_type": "code",
   "execution_count": 15,
   "id": "6cd7ebbd",
   "metadata": {},
   "outputs": [
    {
     "name": "stdout",
     "output_type": "stream",
     "text": [
      "[6, 4, 2, 5, 3, 1] - список в обратном порядке, 6 - длина списка\n"
     ]
    }
   ],
   "source": [
    "a = [1, 3, 5]\n",
    "b = [2, 4, 6]\n",
    "\n",
    "def func(*args):\n",
    "    c = []\n",
    "    for elem in args:\n",
    "        c += elem\n",
    "    print(f'{c[::-1]} - список в обратном порядке, {len(c)} - длина списка')\n",
    "\n",
    "func(a, b)"
   ]
  },
  {
   "cell_type": "markdown",
   "id": "f0e848cd",
   "metadata": {},
   "source": [
    "🧮 5. Удаление всех повторов\n",
    "Задача: Есть список:\n",
    "\n",
    "data = [1, 2, 2, 3, 4, 4, 5, 1]\n",
    "Сделайте так, чтобы в списке остались только уникальные элементы (можно использовать множество)."
   ]
  },
  {
   "cell_type": "code",
   "execution_count": 16,
   "id": "ce08c9f8",
   "metadata": {},
   "outputs": [
    {
     "data": {
      "text/plain": [
       "[1, 2, 3, 4, 5]"
      ]
     },
     "execution_count": 16,
     "metadata": {},
     "output_type": "execute_result"
    }
   ],
   "source": [
    "data = [1, 2, 2, 3, 4, 4, 5, 1]\n",
    "\n",
    "def uniq(lst):\n",
    "    return list(set(lst))\n",
    "uniq(data)"
   ]
  },
  {
   "cell_type": "markdown",
   "id": "3a149f04",
   "metadata": {},
   "source": [
    "🌍 6. Работа со словарём стран\n",
    "Задача: Есть словарь:\n",
    "\n",
    "countries = {\n",
    "    \"Россия\": \"Москва\",\n",
    "    \"Италия\": \"Рим\",\n",
    "    \"Испания\": \"Мадрид\"\n",
    "}\n",
    "Добавьте страну \"Германия\" со столицей \"Берлин\".\n",
    "Перенесите столицу \"Испании\" в \"Барселону\".\n",
    "Выведите все пары \"страна — столица\" в формате \"Столица <столица> находится в стране <страна>\"."
   ]
  },
  {
   "cell_type": "code",
   "execution_count": 20,
   "id": "d5c44eb1",
   "metadata": {},
   "outputs": [
    {
     "name": "stdout",
     "output_type": "stream",
     "text": [
      "Столица Москва находится в стране Россия\n",
      "Столица Рим находится в стране Италия\n",
      "Столица Мадрид находится в стране Испания\n"
     ]
    }
   ],
   "source": [
    "countries = {\n",
    "    \"Россия\": \"Москва\",\n",
    "    \"Италия\": \"Рим\",\n",
    "    \"Испания\": \"Мадрид\"}\n",
    "\n",
    "def cool_printer(dictionary):\n",
    "    for k, v in dictionary.items():\n",
    "        print(f'Столица {v} находится в стране {k}')    \n",
    "\n",
    "cool_printer(countries)\n"
   ]
  },
  {
   "cell_type": "code",
   "execution_count": 21,
   "id": "4fab1bf8",
   "metadata": {},
   "outputs": [
    {
     "name": "stdout",
     "output_type": "stream",
     "text": [
      "Столица Москва находится в стране Россия\n",
      "Столица Рим находится в стране Италия\n",
      "Столица Мадрид находится в стране Испания\n",
      "Столица Зямбубвэ находится в стране Зимбабве\n"
     ]
    }
   ],
   "source": [
    "\n",
    "def new_country(dictionary):\n",
    "    pair = input('Введите страну и столицу через пробел:').split()\n",
    "    dictionary[pair[0]] = pair[1]\n",
    "    cool_printer(dictionary)\n",
    "\n",
    "new_country(countries)"
   ]
  },
  {
   "cell_type": "markdown",
   "id": "c2c37866",
   "metadata": {},
   "source": [
    "🔤7. Подсчёт букв\n",
    "Задача: Дана строка:\n",
    "\n",
    "word = \"программирование\"\n",
    "Преобразуйте строку в множество символов.\n",
    "Посчитайте, сколько уникальных букв в слове.\n",
    "Выведите гласные буквы, которые встречаются в слове (используйте пересечение множеств)."
   ]
  },
  {
   "cell_type": "code",
   "execution_count": 27,
   "id": "18209c66",
   "metadata": {},
   "outputs": [
    {
     "name": "stdout",
     "output_type": "stream",
     "text": [
      "В Вашем слове \"ПарампамПарЯм\" - 6 уникальных символов. \n",
      "{'я', 'а'} - все уникальные гласные Вашего слова\n"
     ]
    }
   ],
   "source": [
    "vowels = {'а', 'о', 'у', 'э', 'и', 'ы', 'е', 'ё', 'ю', 'я'}\n",
    "\n",
    "def func_2():\n",
    "    word = input('Введите слово на русском языке: ')\n",
    "    print(f'В Вашем слове \"{word}\" - {len(set(word))} уникальных символов. \\n{set(word.lower()) & vowels} - все уникальные гласные Вашего слова')\n",
    "\n",
    "func_2()    "
   ]
  },
  {
   "cell_type": "markdown",
   "id": "b88e1136",
   "metadata": {},
   "source": [
    "🧠 8. Обратный словарь\n",
    "Задача: Есть словарь:\n",
    "\n",
    "countries_and_capitals = {\"Россия\": \"Москва\", \"Франция\": \"Париж\", \"Япония\": \"Токио\"}\n",
    "Создайте новый словарь, где ключами будут столицы, а значениями — страны."
   ]
  },
  {
   "cell_type": "code",
   "execution_count": 28,
   "id": "867b142a",
   "metadata": {},
   "outputs": [
    {
     "data": {
      "text/plain": [
       "{'Москва': 'Россия', 'Париж': 'Франция', 'Токио': 'Япония'}"
      ]
     },
     "execution_count": 28,
     "metadata": {},
     "output_type": "execute_result"
    }
   ],
   "source": [
    "countries_and_capitals = {\"Россия\": \"Москва\", \"Франция\": \"Париж\", \"Япония\": \"Токио\"}\n",
    "def invertor(dik):\n",
    "    inv_dik = {}\n",
    "    for k, v in dik.items():\n",
    "        inv_dik[v] = k\n",
    "    return inv_dik\n",
    "\n",
    "invertor(countries_and_capitals)\n",
    "    "
   ]
  },
  {
   "cell_type": "markdown",
   "id": "99679c75",
   "metadata": {},
   "source": [
    "🎬 9. Список фильмов\n",
    "Задача: Создайте список из 5 фильмов.\n",
    "\n",
    "Отсортируйте его по алфавиту.\n",
    "Добавьте в начало \"Интерстеллар\".\n",
    "Удалите последний фильм из списка.\n",
    "Выведите итоговый список."
   ]
  },
  {
   "cell_type": "code",
   "execution_count": 30,
   "id": "724540ff",
   "metadata": {},
   "outputs": [
    {
     "name": "stdout",
     "output_type": "stream",
     "text": [
      "['fgdfgd', 'Бриллиантовая рука', 'Гайвер', 'Люди Икс', 'Шерлок Холмс', 'Японский городовой']\n",
      "['Бриллиантовая рука', 'Гайвер', 'Люди Икс', 'Шерлок Холмс', 'Японский городовой']\n"
     ]
    }
   ],
   "source": [
    "movies = ['Бриллиантовая рука', 'Гайвер', \n",
    "          'Японский городовой', 'Люди Икс', \n",
    "          'Шерлок Холмс']\n",
    "\n",
    "def movie_changer(movie_lst=movies):\n",
    "    movie_lst.sort()\n",
    "    movie_lst.insert(0, input('Добавьте фильм в список избранных: '))\n",
    "    print(movie_lst)\n",
    "\n",
    "def movie_del(movie_lst=movies):\n",
    "    index = movie_lst.index(input(f'Введите фильм для удаления из списка: {', '.join(movie_lst)}:'))\n",
    "    del movie_lst[index]\n",
    "    print(movie_lst)\n",
    "\n",
    "movie_changer()\n",
    "movie_del()    "
   ]
  },
  {
   "cell_type": "markdown",
   "id": "9a413ef7",
   "metadata": {},
   "source": [
    "⚙️ 10. Анализ числового списка\n",
    "Задача: Есть список чисел:\n",
    "\n",
    "nums = [15, 2, 30, 4, 50, 6, 75, 8]\n",
    "Найдите минимум, максимум и среднее арифметическое.\n",
    "Удалите все числа больше среднего.\n",
    "Отсортируйте список по возрастанию."
   ]
  },
  {
   "cell_type": "code",
   "execution_count": 32,
   "id": "8e8b690e",
   "metadata": {},
   "outputs": [
    {
     "name": "stdout",
     "output_type": "stream",
     "text": [
      "Максимум - 75\n",
      "Минимум - 2\n",
      "Среднее - 23.75\n",
      "[30, 50, 75]\n"
     ]
    }
   ],
   "source": [
    "nums = [15, 2, 30, 4, 50, 6, 75, 8]\n",
    "def nums_info_and_mod(lst=nums):\n",
    "    print(f'Максимум - {max(nums)}\\nМинимум - {min(nums)}\\nСреднее - {sum(nums) / len(nums)}')\n",
    "    print([n for n in nums if n > (sum(nums)/len(nums))])\n",
    "nums_info_and_mod()    "
   ]
  }
 ],
 "metadata": {
  "kernelspec": {
   "display_name": "Python 3",
   "language": "python",
   "name": "python3"
  },
  "language_info": {
   "codemirror_mode": {
    "name": "ipython",
    "version": 3
   },
   "file_extension": ".py",
   "mimetype": "text/x-python",
   "name": "python",
   "nbconvert_exporter": "python",
   "pygments_lexer": "ipython3",
   "version": "3.12.3"
  }
 },
 "nbformat": 4,
 "nbformat_minor": 5
}
